{
  "nbformat": 4,
  "nbformat_minor": 0,
  "metadata": {
    "colab": {
      "provenance": [],
      "authorship_tag": "ABX9TyOcwFoxqfJq1snk2WEhFH6N"
    },
    "kernelspec": {
      "name": "python3",
      "display_name": "Python 3"
    },
    "language_info": {
      "name": "python"
    }
  },
  "cells": [
    {
      "cell_type": "code",
      "execution_count": null,
      "metadata": {
        "colab": {
          "base_uri": "https://localhost:8080/"
        },
        "id": "67jQh8VD7Q4G",
        "outputId": "1d1b8d85-695a-4d67-813b-bc77e2ad8f88"
      },
      "outputs": [
        {
          "output_type": "stream",
          "name": "stdout",
          "text": [
            "['cake', 'choco', 'cake', 1, 2.4, 3]\n",
            "['cake', 'choco', 'cake', 1, 2.4, 3, 'ice cream']\n",
            "enter index of list:2\n",
            "cake\n",
            "['cake', 'choco', 'cake', 1, 2.4, 'ice cream']\n",
            "updated list = ['cake', 'vanilla', 'cake', 1, 2.4, 'ice cream']\n"
          ]
        }
      ],
      "source": [
        "#1) Create a list and store different values of your choice inside the list and then print the list, finally show all the properties of the list.\n",
        "\n",
        "a=['cake','choco','cake',1,2.4,3]\n",
        "print(a)\n",
        "a.append(\"ice cream\")\n",
        "print(a)\n",
        "n=int(input(\"enter index of list:\"))\n",
        "print(a[n])\n",
        "a.remove(a[5])\n",
        "print(a)\n",
        "a[1]=\"vanilla\"\n",
        "print(\"updated list =\",a)"
      ]
    },
    {
      "cell_type": "code",
      "source": [
        "#2) Create a tuple and store different values of your choice inside the tuple and then print the tuple, finally show all the properties of the tuple.\n",
        "\n",
        "a=('cake','choco','cake',1,3,2.4)\n",
        "print(a)\n",
        "print(\"addition, deletion, updation element not possible in tuple.\")\n",
        "n=int(input(\"enter index of tuple:\"))\n",
        "print(a[n])"
      ],
      "metadata": {
        "colab": {
          "base_uri": "https://localhost:8080/"
        },
        "id": "hHJ-TfR49doN",
        "outputId": "d0d5a91f-9786-4c16-a1cc-92cb32895bd8"
      },
      "execution_count": null,
      "outputs": [
        {
          "output_type": "stream",
          "name": "stdout",
          "text": [
            "('cake', 'choco', 'cake', 1, 3, 2.4)\n",
            "addition, deletion, updation element not possible in tuple.\n",
            "enter index of tuple:3\n",
            "1\n"
          ]
        }
      ]
    },
    {
      "cell_type": "code",
      "source": [
        "#3) Create a set and store different values of your choice inside the set and then print the set, finally show all the properties of the set.\n",
        "\n",
        "a={'cake','choco','cake',1,3,2.4}\n",
        "print(a)\n",
        "a.add(\"ice cream\")\n",
        "print(a)\n",
        "print(\"indexing not possible in set\")\n",
        "a.remove(3)\n",
        "print(a)"
      ],
      "metadata": {
        "colab": {
          "base_uri": "https://localhost:8080/"
        },
        "id": "0O_QiDbyAWe3",
        "outputId": "0c4cb5d8-0da9-417f-8899-a95f4ac02eca"
      },
      "execution_count": null,
      "outputs": [
        {
          "output_type": "stream",
          "name": "stdout",
          "text": [
            "{'choco', 1, 2.4, 3, 'cake'}\n",
            "{'choco', 1, 2.4, 3, 'cake', 'ice cream'}\n",
            "indexing not possible in set\n",
            "{'choco', 1, 2.4, 'cake', 'ice cream'}\n"
          ]
        }
      ]
    },
    {
      "cell_type": "code",
      "source": [
        "#4) Create a dictionary and inside the dictionary, create 3 keys of your choice, and then assign a specific value for each individualkeys and finally print the dictionary.\n",
        "\n",
        "self={\n",
        "    \"Name\":\"Shreeja Sinha\",\n",
        "    \"Age\":19,\n",
        "    \"Stream\":\"CSE\"\n",
        "}\n",
        "print(self)"
      ],
      "metadata": {
        "colab": {
          "base_uri": "https://localhost:8080/"
        },
        "id": "-XVJ31igBts3",
        "outputId": "5173ef9f-69a1-43ee-d0eb-20a854757625"
      },
      "execution_count": null,
      "outputs": [
        {
          "output_type": "stream",
          "name": "stdout",
          "text": [
            "{'Name': 'Shreeja Sinha', 'Age': 19, 'Stream': 'CSE'}\n"
          ]
        }
      ]
    },
    {
      "cell_type": "code",
      "source": [
        "#5) Write a Python program that checks whether a number entered by the user is even or odd. Use if-else statement to determine and print the result.\n",
        "\n",
        "n=float(input(\"enter a number\"))\n",
        "if n%2 == 0:\n",
        "  print(\"even\")\n",
        "else:\n",
        "  print(\"odd\")"
      ],
      "metadata": {
        "colab": {
          "base_uri": "https://localhost:8080/"
        },
        "id": "U355yXtaCzH3",
        "outputId": "114768f4-a7bb-44e6-c1cf-bd59c6726f81"
      },
      "execution_count": null,
      "outputs": [
        {
          "output_type": "stream",
          "name": "stdout",
          "text": [
            "enter a number20.5\n",
            "odd\n"
          ]
        }
      ]
    },
    {
      "cell_type": "code",
      "source": [
        "#6) Write a Python program that acts as a basic calculator. The program should prompt the user to enter 2 numbers and an operator(+,-,*,/). Use if, else and elif statements to perform the correct operation and display the result.\n",
        "\n",
        "print(\"enter 2 numbers:\")\n",
        "a=float(input())\n",
        "b=float(input())\n",
        "op=input(\"enter either +,-,*or /: \")\n",
        "if op==\"+\":\n",
        "  print(a,\"+\",b,\"=\",a+b)\n",
        "elif op==\"-\":\n",
        "  print(a,\"-\",b,\"=\",a-b)\n",
        "elif op==\"*\":\n",
        "  print(a,\"*\",b,\"=\",a*b)\n",
        "elif op==\"/\":\n",
        "  print(a,\"/\",b,\"=\",a//b)\n",
        "else:\n",
        "  print(\"please enter operator correctly!!\")"
      ],
      "metadata": {
        "colab": {
          "base_uri": "https://localhost:8080/"
        },
        "id": "y7mBg8GhDem2",
        "outputId": "d6f16a95-2135-469d-d288-e303aa11cf43"
      },
      "execution_count": null,
      "outputs": [
        {
          "output_type": "stream",
          "name": "stdout",
          "text": [
            "enter 2 numbers:\n",
            "11\n",
            "2\n",
            "enter either +,-,*or /: *\n",
            "11.0 * 2.0 = 22.0\n"
          ]
        }
      ]
    },
    {
      "cell_type": "code",
      "source": [
        "#7) Create a list and store different items inside the list then with the use of a for loop iterate all items stored inside the list.\n",
        "\n",
        "a=['cake','choco','cake',1,2.4,3]\n",
        "print(a)\n",
        "for i in a:\n",
        "  print(i)"
      ],
      "metadata": {
        "colab": {
          "base_uri": "https://localhost:8080/"
        },
        "id": "-SwbMceeE7yf",
        "outputId": "0beece05-f8e8-4490-caae-d64a4b302f7a"
      },
      "execution_count": null,
      "outputs": [
        {
          "output_type": "stream",
          "name": "stdout",
          "text": [
            "['cake', 'choco', 'cake', 1, 2.4, 3]\n",
            "cake\n",
            "choco\n",
            "cake\n",
            "1\n",
            "2.4\n",
            "3\n"
          ]
        }
      ]
    },
    {
      "cell_type": "code",
      "source": [
        "#8) Print 1st 10 natural numbers with the use of a while loop.\n",
        "\n",
        "n=int(input(\"enter number of natural numbers to be printed:\"))\n",
        "i=1\n",
        "while(i<=n):\n",
        "  print(i)\n",
        "  i=i+1"
      ],
      "metadata": {
        "colab": {
          "base_uri": "https://localhost:8080/"
        },
        "id": "Hsh7XsUJFQMf",
        "outputId": "a964989f-7811-4f03-975a-64e35f7cdd11"
      },
      "execution_count": null,
      "outputs": [
        {
          "output_type": "stream",
          "name": "stdout",
          "text": [
            "enter number of natural numbers to be printed:10\n",
            "1\n",
            "2\n",
            "3\n",
            "4\n",
            "5\n",
            "6\n",
            "7\n",
            "8\n",
            "9\n",
            "10\n"
          ]
        }
      ]
    },
    {
      "cell_type": "code",
      "source": [
        "#9) Print 1st 10 natural numbers with the use of a while loop and then use a break statement to terminate the loop or close the loop in between.\n",
        "\n",
        "n=int(input(\"enter number of natural numbers to be printed:\"))\n",
        "i=1\n",
        "while(i<=n):\n",
        "  print(i)\n",
        "  i=i+1\n",
        "  if(i == 6):\n",
        "    break"
      ],
      "metadata": {
        "colab": {
          "base_uri": "https://localhost:8080/"
        },
        "id": "mJezBUqBF_Xf",
        "outputId": "95313934-3f0d-45ff-fbc6-27b59f5cd63e"
      },
      "execution_count": null,
      "outputs": [
        {
          "output_type": "stream",
          "name": "stdout",
          "text": [
            "enter number of natural numbers to be printed:10\n",
            "1\n",
            "2\n",
            "3\n",
            "4\n",
            "5\n"
          ]
        }
      ]
    },
    {
      "cell_type": "code",
      "source": [
        "#10) Cretae a class named employee and inside the class define 2 functions namely getdata and display, inside the\n",
        "\n",
        "class employee:\n",
        "  def getdata(self):\n",
        "    self.name=input(\"Name: \")\n",
        "    self.dept=input(\"Department: \")\n",
        "    self.salary=input(\"Salary: \")\n",
        "\n",
        "  def display(self):\n",
        "    print(\"entered data is as follows, please check:\")\n",
        "    print(self.name)\n",
        "    print(self.dept)\n",
        "    print(self.salary)\n",
        "\n",
        "emp=employee()\n",
        "emp.getdata()\n",
        "emp.display()"
      ],
      "metadata": {
        "colab": {
          "base_uri": "https://localhost:8080/"
        },
        "id": "lS6zWDTxGgBX",
        "outputId": "9bd7fe39-dac6-4679-d1a4-d8e44e6065ad"
      },
      "execution_count": null,
      "outputs": [
        {
          "output_type": "stream",
          "name": "stdout",
          "text": [
            "Name: Shreeja Sinha\n",
            "Department: CSE\n",
            "Salary: 150000000000\n",
            "entered data is as follows, please check:\n",
            "Shreeja Sinha\n",
            "CSE\n",
            "150000000000\n"
          ]
        }
      ]
    },
    {
      "cell_type": "code",
      "source": [],
      "metadata": {
        "id": "VOmW-FakIUk4"
      },
      "execution_count": null,
      "outputs": []
    }
  ]
}